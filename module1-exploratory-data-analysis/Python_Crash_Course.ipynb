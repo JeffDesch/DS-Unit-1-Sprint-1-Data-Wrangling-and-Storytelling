{
 "cells": [
  {
   "cell_type": "markdown",
   "metadata": {
    "id": "2OA0ipUTL7vg"
   },
   "source": [
    "# Python Crash Course \n",
    "Python is an extremely powerful general purpose tool for coding, and has been embraced by the data science community for its flexibility, object-oriented nature, and its inclusion of multiple standard libraries. \n",
    "\n",
    "Python's design philosophy emphasizes code readability with its notable use of significant indentation. (This means that blank spaces will matter to how you code.) "
   ]
  },
  {
   "cell_type": "markdown",
   "metadata": {
    "id": "nyfcPQE8NlXB"
   },
   "source": [
    "## How to Use Python in Colab Environment\n",
    "We will be using Colab for Unit 1. Colab is a Jupyter Notebook environment that runs on the cloud and stores files in your Google Drive. "
   ]
  },
  {
   "cell_type": "code",
   "execution_count": null,
   "metadata": {
    "id": "o5vqXRatOjFJ"
   },
   "outputs": [],
   "source": [
    "#run the following cell by clicking on the play button next to this text\n",
    "\"Hello\""
   ]
  },
  {
   "cell_type": "code",
   "execution_count": null,
   "metadata": {
    "id": "ozOc4JNkOlm4"
   },
   "outputs": [],
   "source": [
    "#run the following cell by clicking Shift + Return\n",
    "2+2"
   ]
  },
  {
   "cell_type": "markdown",
   "metadata": {
    "id": "sOlhzFOrO7d7"
   },
   "source": [
    "## Embrace the keyboard shortcuts: \n",
    "- Press 'esc' to enter navigation mode. \n",
    "- The keys 'a' and 'b' create code cells above and below your current cell when in navigation mode. \n",
    "- Click on the 'Tools' tab above to see additional short-cuts.\n",
    "- It's okay to use your mouse. You'll learn to code like a speedster with practice!"
   ]
  },
  {
   "cell_type": "markdown",
   "metadata": {
    "id": "mVRsE75BQTQT"
   },
   "source": [
    "## What is a Python Object? "
   ]
  },
  {
   "cell_type": "code",
   "execution_count": null,
   "metadata": {
    "id": "aBaNkvRSQW1f"
   },
   "outputs": [],
   "source": [
    "x = 2\n",
    "x"
   ]
  },
  {
   "cell_type": "code",
   "execution_count": null,
   "metadata": {
    "id": "_g-c5FgISFTV"
   },
   "outputs": [],
   "source": [
    "y = 7"
   ]
  },
  {
   "cell_type": "code",
   "execution_count": null,
   "metadata": {
    "id": "vDxsIEOSQX4_"
   },
   "outputs": [],
   "source": [
    "x + y\n"
   ]
  },
  {
   "cell_type": "code",
   "execution_count": null,
   "metadata": {
    "id": "4HmpQbqJQbdq"
   },
   "outputs": [],
   "source": [
    "#What are built-in functions? \n",
    "type(x)"
   ]
  },
  {
   "cell_type": "code",
   "execution_count": null,
   "metadata": {
    "id": "MAr6vWZuSRH7"
   },
   "outputs": [],
   "source": [
    "#The print statement?\n",
    "print(\"Hello World\")\n",
    "\n",
    "#Difference between output and print statement.\n",
    "y\n",
    "x\n",
    "#what happens when you include a print statement next to the y object? "
   ]
  },
  {
   "cell_type": "code",
   "execution_count": null,
   "metadata": {
    "id": "pLg6rgTeX-3u"
   },
   "outputs": [],
   "source": []
  },
  {
   "cell_type": "markdown",
   "metadata": {
    "id": "cNNIbyd7YAHM"
   },
   "source": [
    "## Operators"
   ]
  },
  {
   "cell_type": "code",
   "execution_count": null,
   "metadata": {
    "id": "EKqBUjuEYBXs"
   },
   "outputs": [],
   "source": [
    "x + y"
   ]
  },
  {
   "cell_type": "code",
   "execution_count": null,
   "metadata": {
    "id": "VzIWW4W3YDDQ"
   },
   "outputs": [],
   "source": [
    "x - y "
   ]
  },
  {
   "cell_type": "code",
   "execution_count": null,
   "metadata": {
    "id": "pFE4BkgFYGl6"
   },
   "outputs": [],
   "source": [
    "x * y"
   ]
  },
  {
   "cell_type": "code",
   "execution_count": null,
   "metadata": {
    "id": "LXqQIa6WYIUl"
   },
   "outputs": [],
   "source": [
    "x / y"
   ]
  },
  {
   "cell_type": "code",
   "execution_count": null,
   "metadata": {
    "id": "UEOxqwFzYKGH"
   },
   "outputs": [],
   "source": [
    "x**2"
   ]
  },
  {
   "cell_type": "code",
   "execution_count": null,
   "metadata": {
    "id": "9creLzaVYOsC"
   },
   "outputs": [],
   "source": [
    "y // 3"
   ]
  },
  {
   "cell_type": "code",
   "execution_count": null,
   "metadata": {
    "id": "yvaU5vXEYgxl"
   },
   "outputs": [],
   "source": [
    "y % 2"
   ]
  },
  {
   "cell_type": "markdown",
   "metadata": {
    "id": "uC0D56kcSJPc"
   },
   "source": [
    "## Error Codes\n",
    "(...or How I learned to love my mistakes)"
   ]
  },
  {
   "cell_type": "code",
   "execution_count": null,
   "metadata": {
    "id": "WcThChpOTKIK"
   },
   "outputs": [],
   "source": [
    "z = \"the number three\"\n",
    "z"
   ]
  },
  {
   "cell_type": "code",
   "execution_count": null,
   "metadata": {
    "id": "-VWc6m6NTOEa"
   },
   "outputs": [],
   "source": [
    "type(z)"
   ]
  },
  {
   "cell_type": "code",
   "execution_count": null,
   "metadata": {
    "id": "-SgSDeztS6gS"
   },
   "outputs": [],
   "source": [
    "#You're gonna get a lot of errors while you're learning to code, and that's okay!\n",
    "x + z"
   ]
  },
  {
   "cell_type": "markdown",
   "metadata": {
    "id": "M3MC-WynR_z1"
   },
   "source": [
    "## Data Types"
   ]
  },
  {
   "cell_type": "code",
   "execution_count": null,
   "metadata": {
    "id": "T11vOxbsSBk-"
   },
   "outputs": [],
   "source": [
    "#intergers\n",
    "\n",
    "#strings\n",
    "\n",
    "#lists\n",
    "\n",
    "#dictionaries\n",
    "season_dict = {\"winter\" : 'cold', 'summer' : 'hot', 'fall' : 'colorful'}\n"
   ]
  },
  {
   "cell_type": "markdown",
   "metadata": {
    "id": "h6dlaFUMZg_j"
   },
   "source": [
    "## Object Methods and How To Use Them"
   ]
  },
  {
   "cell_type": "code",
   "execution_count": null,
   "metadata": {
    "id": "MaFq4UEdZWBW"
   },
   "outputs": [],
   "source": [
    "season_dict"
   ]
  },
  {
   "cell_type": "markdown",
   "metadata": {
    "id": "LRXraioLM_9Q"
   },
   "source": [
    "### Imports"
   ]
  },
  {
   "cell_type": "code",
   "execution_count": null,
   "metadata": {
    "id": "0iiaYzyuL8ZV"
   },
   "outputs": [],
   "source": [
    "import this"
   ]
  },
  {
   "cell_type": "code",
   "execution_count": null,
   "metadata": {
    "id": "cQNbK6BhXbGb"
   },
   "outputs": [],
   "source": [
    "#The most popular data science libraries are numpy, pandas and matplotlib (for visualizations)"
   ]
  },
  {
   "cell_type": "markdown",
   "metadata": {
    "id": "aGIH8ZspMX0h"
   },
   "source": [
    "# Resources\n",
    "- https://www.python.org/about/gettingstarted/\n",
    "- https://en.wikipedia.org/wiki/Python_(programming_language)\n",
    "- https://en.wikipedia.org/wiki/Project_Jupyter#Google_Colaboratory"
   ]
  },
  {
   "cell_type": "code",
   "execution_count": null,
   "metadata": {
    "id": "IrK-Jhj6Y2cW"
   },
   "outputs": [],
   "source": []
  }
 ],
 "metadata": {
  "colab": {
   "collapsed_sections": [],
   "name": "Python_Crash_Course.ipynb",
   "provenance": []
  },
  "kernelspec": {
   "display_name": "Python 3",
   "language": "python",
   "name": "python3"
  },
  "language_info": {
   "codemirror_mode": {
    "name": "ipython",
    "version": 3
   },
   "file_extension": ".py",
   "mimetype": "text/x-python",
   "name": "python",
   "nbconvert_exporter": "python",
   "pygments_lexer": "ipython3",
   "version": "3.8.8"
  }
 },
 "nbformat": 4,
 "nbformat_minor": 1
}
