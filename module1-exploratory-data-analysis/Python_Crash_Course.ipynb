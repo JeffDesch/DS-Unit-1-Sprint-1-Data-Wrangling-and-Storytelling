{
  "nbformat": 4,
  "nbformat_minor": 0,
  "metadata": {
    "colab": {
      "name": "Python_Crash_Course.ipynb",
      "provenance": [],
      "collapsed_sections": []
    },
    "kernelspec": {
      "name": "python3",
      "display_name": "Python 3"
    },
    "language_info": {
      "name": "python"
    }
  },
  "cells": [
    {
      "cell_type": "markdown",
      "metadata": {
        "id": "2OA0ipUTL7vg"
      },
      "source": [
        "# Python Crash Course \n",
        "Python is an extremely powerful general purpose tool for coding, and has been embraced by the data science community for its flexibility, object-oriented nature, and its inclusion of multiple standard libraries. \n",
        "\n",
        "Python's design philosophy emphasizes code readability with its notable use of significant indentation. (This means that blank spaces will matter to how you code.) "
      ]
    },
    {
      "cell_type": "markdown",
      "metadata": {
        "id": "nyfcPQE8NlXB"
      },
      "source": [
        "## How to Use Python in Colab Environment\n",
        "We will be using Colab for Unit 1. Colab is a Jupyter Notebook environment that runs on the cloud and stores files in your Google Drive. "
      ]
    },
    {
      "cell_type": "code",
      "metadata": {
        "id": "o5vqXRatOjFJ"
      },
      "source": [
        "#run the following cell by clicking on the play button next to this text\n",
        "\"Hello\""
      ],
      "execution_count": null,
      "outputs": []
    },
    {
      "cell_type": "code",
      "metadata": {
        "id": "ozOc4JNkOlm4"
      },
      "source": [
        "#run the following cell by clicking Shift + Return\n",
        "2+2"
      ],
      "execution_count": null,
      "outputs": []
    },
    {
      "cell_type": "markdown",
      "metadata": {
        "id": "sOlhzFOrO7d7"
      },
      "source": [
        "## Embrace the keyboard shortcuts: \n",
        "- Press 'esc' to enter navigation mode. \n",
        "- The keys 'a' and 'b' create code cells above and below your current cell when in navigation mode. \n",
        "- Click on the 'Tools' tab above to see additional short-cuts.\n",
        "- It's okay to use your mouse. You'll learn to code like a speedster with practice!"
      ]
    },
    {
      "cell_type": "markdown",
      "metadata": {
        "id": "mVRsE75BQTQT"
      },
      "source": [
        "## What is a Python Object? "
      ]
    },
    {
      "cell_type": "code",
      "metadata": {
        "id": "aBaNkvRSQW1f"
      },
      "source": [
        "x = 2\n",
        "x"
      ],
      "execution_count": null,
      "outputs": []
    },
    {
      "cell_type": "code",
      "metadata": {
        "id": "_g-c5FgISFTV"
      },
      "source": [
        "y = 7"
      ],
      "execution_count": null,
      "outputs": []
    },
    {
      "cell_type": "code",
      "metadata": {
        "id": "vDxsIEOSQX4_"
      },
      "source": [
        "x + y\n"
      ],
      "execution_count": null,
      "outputs": []
    },
    {
      "cell_type": "code",
      "metadata": {
        "id": "4HmpQbqJQbdq"
      },
      "source": [
        "#What are built-in functions? \n",
        "type(x)"
      ],
      "execution_count": null,
      "outputs": []
    },
    {
      "cell_type": "code",
      "metadata": {
        "id": "MAr6vWZuSRH7"
      },
      "source": [
        "#The print statement?\n",
        "print(\"Hello World\")\n",
        "\n",
        "#Difference between output and print statement.\n",
        "y\n",
        "x\n",
        "#what happens when you include a print statement next to the y object? "
      ],
      "execution_count": null,
      "outputs": []
    },
    {
      "cell_type": "code",
      "metadata": {
        "id": "pLg6rgTeX-3u"
      },
      "source": [
        ""
      ],
      "execution_count": null,
      "outputs": []
    },
    {
      "cell_type": "markdown",
      "metadata": {
        "id": "cNNIbyd7YAHM"
      },
      "source": [
        "## Operators"
      ]
    },
    {
      "cell_type": "code",
      "metadata": {
        "id": "EKqBUjuEYBXs"
      },
      "source": [
        "x + y"
      ],
      "execution_count": null,
      "outputs": []
    },
    {
      "cell_type": "code",
      "metadata": {
        "id": "VzIWW4W3YDDQ"
      },
      "source": [
        "x - y "
      ],
      "execution_count": null,
      "outputs": []
    },
    {
      "cell_type": "code",
      "metadata": {
        "id": "pFE4BkgFYGl6"
      },
      "source": [
        "x * y"
      ],
      "execution_count": null,
      "outputs": []
    },
    {
      "cell_type": "code",
      "metadata": {
        "id": "LXqQIa6WYIUl"
      },
      "source": [
        "x / y"
      ],
      "execution_count": null,
      "outputs": []
    },
    {
      "cell_type": "code",
      "metadata": {
        "id": "UEOxqwFzYKGH"
      },
      "source": [
        "x**2"
      ],
      "execution_count": null,
      "outputs": []
    },
    {
      "cell_type": "code",
      "metadata": {
        "id": "9creLzaVYOsC"
      },
      "source": [
        "y // 3"
      ],
      "execution_count": null,
      "outputs": []
    },
    {
      "cell_type": "code",
      "metadata": {
        "id": "yvaU5vXEYgxl"
      },
      "source": [
        "y % 2"
      ],
      "execution_count": null,
      "outputs": []
    },
    {
      "cell_type": "markdown",
      "metadata": {
        "id": "uC0D56kcSJPc"
      },
      "source": [
        "## Error Codes\n",
        "(...or How I learned to love my mistakes)"
      ]
    },
    {
      "cell_type": "code",
      "metadata": {
        "id": "WcThChpOTKIK"
      },
      "source": [
        "z = \"the number three\"\n",
        "z"
      ],
      "execution_count": null,
      "outputs": []
    },
    {
      "cell_type": "code",
      "metadata": {
        "id": "-VWc6m6NTOEa"
      },
      "source": [
        "type(z)"
      ],
      "execution_count": null,
      "outputs": []
    },
    {
      "cell_type": "code",
      "metadata": {
        "id": "-SgSDeztS6gS"
      },
      "source": [
        "#You're gonna get a lot of errors while you're learning to code, and that's okay!\n",
        "x + z"
      ],
      "execution_count": null,
      "outputs": []
    },
    {
      "cell_type": "markdown",
      "metadata": {
        "id": "M3MC-WynR_z1"
      },
      "source": [
        "## Datatypes"
      ]
    },
    {
      "cell_type": "code",
      "metadata": {
        "id": "T11vOxbsSBk-"
      },
      "source": [
        "#intergers\n",
        "\n",
        "#strings\n",
        "\n",
        "#lists\n",
        "\n",
        "#dictionaries\n",
        "season_dict = {\"winter\" : 'cold', 'summer' : 'hot', 'fall' : 'colorful'}\n"
      ],
      "execution_count": null,
      "outputs": []
    },
    {
      "cell_type": "markdown",
      "metadata": {
        "id": "h6dlaFUMZg_j"
      },
      "source": [
        "## Object Methods and How To Use Them"
      ]
    },
    {
      "cell_type": "code",
      "metadata": {
        "id": "MaFq4UEdZWBW"
      },
      "source": [
        "season_dict"
      ],
      "execution_count": null,
      "outputs": []
    },
    {
      "cell_type": "markdown",
      "metadata": {
        "id": "LRXraioLM_9Q"
      },
      "source": [
        "### Imports"
      ]
    },
    {
      "cell_type": "code",
      "metadata": {
        "id": "0iiaYzyuL8ZV"
      },
      "source": [
        "import this"
      ],
      "execution_count": null,
      "outputs": []
    },
    {
      "cell_type": "code",
      "metadata": {
        "id": "cQNbK6BhXbGb"
      },
      "source": [
        "#The most popular data science libraries are numpy, pandas and matplotlib (for visualizations)"
      ],
      "execution_count": null,
      "outputs": []
    },
    {
      "cell_type": "markdown",
      "metadata": {
        "id": "aGIH8ZspMX0h"
      },
      "source": [
        "# Resources\n",
        "- https://www.python.org/about/gettingstarted/\n",
        "- https://en.wikipedia.org/wiki/Python_(programming_language)\n",
        "- https://en.wikipedia.org/wiki/Project_Jupyter#Google_Colaboratory\n",
        "- Hour Long Youtube Training: https://www.youtube.com/watch?v=kqtD5dpn9C8"
      ]
    },
    {
      "cell_type": "code",
      "metadata": {
        "id": "IrK-Jhj6Y2cW"
      },
      "source": [
        ""
      ],
      "execution_count": null,
      "outputs": []
    }
  ]
}