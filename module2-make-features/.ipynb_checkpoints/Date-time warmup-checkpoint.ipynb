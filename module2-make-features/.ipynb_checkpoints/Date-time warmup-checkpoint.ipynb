{
 "cells": [
  {
   "cell_type": "markdown",
   "metadata": {
    "id": "m0G8Kv-MmaHh"
   },
   "source": [
    "# [Objective](#dates-and-times) Work with Dates and Times with Pandas"
   ]
  },
  {
   "cell_type": "markdown",
   "metadata": {
    "id": "565Xjo-RnvLm"
   },
   "source": [
    "## Overview\n",
    "\n",
    "Pandas has its own datetime datatype that makes it extremely convenient to convert strings that are in standard date formats to datetime objects and then use those datetime objects to either create new features on a dataframe or work with the dataset as a time series. \n",
    "\n",
    "This section will demonstrate how to take a column of date strings, convert it to a datetime object and then use the datetime formatting `.dt` to access specific parts of the date (year, month, day) to generate useful columns in a dataframe."
   ]
  },
  {
   "cell_type": "markdown",
   "metadata": {
    "id": "YpoU_2Gknzbz"
   },
   "source": [
    "## Follow Along"
   ]
  },
  {
   "cell_type": "markdown",
   "metadata": {
    "id": "BoQ86d_R79J6"
   },
   "source": [
    "### Work with Dates \n",
    "\n",
    "pandas documentation\n",
    "- [to_datetime](https://pandas.pydata.org/pandas-docs/stable/generated/pandas.to_datetime.html)\n",
    "- [Time/Date Components](https://pandas.pydata.org/pandas-docs/stable/timeseries.html#time-date-components) \"You can access these properties via the `.dt` accessor\"\n",
    "\n"
   ]
  },
  {
   "cell_type": "markdown",
   "metadata": {
    "id": "4b8rbLFPd34s"
   },
   "source": [
    "We'll be working with the Loans data (which we will continue to use during the guided project).  To access the Loans dataset, run the next code block without changing anything:"
   ]
  },
  {
   "cell_type": "code",
   "execution_count": null,
   "metadata": {
    "id": "4793LweyroFI"
   },
   "outputs": [],
   "source": [
    "import pandas as pd\n",
    "\n",
    "\n",
    "loans_data = 'https://raw.githubusercontent.com/LambdaSchool/data-science-practice-datasets/main/unit_1/LendingClub/LoanStats_2018Q4_sm.csv'\n",
    "loans = pd.read_csv(loans_data)\n",
    "\n",
    "print(loans.shape)\n",
    "loans.head()"
   ]
  },
  {
   "cell_type": "markdown",
   "metadata": {
    "id": "JJkUZ5g4fxPH"
   },
   "source": [
    "For this warm-up assignment, we are going to determine the length of credit history for the individuals in the Loans dataset we just imported.\n",
    "\n",
    "To do this, we are going to need two date values: `issue_d` and `earliest_cr_line`.  "
   ]
  },
  {
   "cell_type": "markdown",
   "metadata": {
    "id": "7wccaSfx9Zo4"
   },
   "source": [
    "Lets look at the string format of the `issue_d` column"
   ]
  },
  {
   "cell_type": "code",
   "execution_count": null,
   "metadata": {
    "id": "BVYeLIOm9dQ-"
   },
   "outputs": [],
   "source": [
    "#Print out the values in the column for issue_d\n",
    "\n"
   ]
  },
  {
   "cell_type": "markdown",
   "metadata": {
    "id": "DnjOcU5y9iZh"
   },
   "source": [
    "Because this string format %m-%y is a common datetime format, we can just let Pandas detect this format and translate it to the appropriate datetime object."
   ]
  },
  {
   "cell_type": "code",
   "execution_count": null,
   "metadata": {
    "id": "cBV3Ta_79qe6"
   },
   "outputs": [],
   "source": [
    "#Print the first observation of issue_d using loans['issue_d'][0]\n",
    "\n"
   ]
  },
  {
   "cell_type": "markdown",
   "metadata": {
    "id": "6hcypFMu9y4s"
   },
   "source": [
    "Now let's apply the pd.to_datetime function to `issue_d`.  Python is very good at figuring out dates."
   ]
  },
  {
   "cell_type": "code",
   "execution_count": null,
   "metadata": {
    "id": "fUMjhnyJ94is"
   },
   "outputs": [],
   "source": [
    "#Print issue_d as a datetime value using pd.to_datetime(loans['issue_d'], infer='True')\n",
    "\n"
   ]
  },
  {
   "cell_type": "markdown",
   "metadata": {
    "id": "aZQiLh4O-CMN"
   },
   "source": [
    "What do you notice about how Python handles the day of the month?"
   ]
  },
  {
   "cell_type": "markdown",
   "metadata": {
    "id": "aqUONaG8g6uk"
   },
   "source": [
    "Assign the values of `issue_d` in the datetime format to a new variable in `loans` called `issue_date`."
   ]
  },
  {
   "cell_type": "code",
   "execution_count": null,
   "metadata": {
    "id": "6_PhaWzb-J7X"
   },
   "outputs": [],
   "source": [
    "#Create issue_date\n",
    "\n"
   ]
  },
  {
   "cell_type": "markdown",
   "metadata": {
    "id": "V3rKmrzY-NsD"
   },
   "source": [
    "We can use the `.dt` accessor to now grab specific parts of the datetime object. Lets grab just the year from the all of the cells in the `issue_d` column"
   ]
  },
  {
   "cell_type": "code",
   "execution_count": null,
   "metadata": {
    "id": "y4479qzj-Yj5"
   },
   "outputs": [],
   "source": [
    "#Print the year of issue_date using loans['issue_date'].dt.year\n",
    "\n",
    "\n"
   ]
  },
  {
   "cell_type": "code",
   "execution_count": null,
   "metadata": {
    "id": "D28keYR3-dJn"
   },
   "outputs": [],
   "source": [
    "#Print the month using loans['issue_d'].dt.month\n",
    "\n"
   ]
  },
  {
   "cell_type": "markdown",
   "metadata": {
    "id": "g4_O0q0t-hOX"
   },
   "source": [
    "It's just that easy! Now, instead of printing them out, lets add these year and month values as new columns on our dataframe.  Name the year variable `issue_year` and the month variable `issue_month`. Again, you'll have to scroll all the way over to the right in the table to see the new columns."
   ]
  },
  {
   "cell_type": "code",
   "execution_count": null,
   "metadata": {
    "id": "VJdlhqH1-mri"
   },
   "outputs": [],
   "source": [
    "#Create issue_year and issue_month.  Print the header of loans and scroll right to see the columns added to the dataset.\n",
    "\n",
    "\n"
   ]
  },
  {
   "cell_type": "markdown",
   "metadata": {
    "id": "LAxig0nE-1kt"
   },
   "source": [
    "Now let's look at the `earliest_cr_line` column, which is also a string, but that could be converted to datetime format.\n"
   ]
  },
  {
   "cell_type": "code",
   "execution_count": null,
   "metadata": {
    "id": "5S6BDZjp-e8-"
   },
   "outputs": [],
   "source": [
    "#Print the date of the earliest credit line using loans['earliest_cr_line']\n",
    "\n"
   ]
  },
  {
   "cell_type": "markdown",
   "metadata": {
    "id": "z7HSJ1pYjX4e"
   },
   "source": [
    "Convert `earliest_cr_line` to a datetime format using pd.to_datetime and assign the result to the column `earliest_credit`."
   ]
  },
  {
   "cell_type": "code",
   "execution_count": null,
   "metadata": {
    "id": "Lf9nCJdYjL4W"
   },
   "outputs": [],
   "source": [
    "#Created the earliest credit column.\n",
    "\n"
   ]
  },
  {
   "cell_type": "markdown",
   "metadata": {
    "id": "8aQ7jrtfjyEk"
   },
   "source": [
    "Determine the length of credit history in days by subtracting `earliest_credit` from `issue_date`.  Save the result as `credit_length_days`. "
   ]
  },
  {
   "cell_type": "code",
   "execution_count": null,
   "metadata": {
    "id": "tRWE2SXZe8mA"
   },
   "outputs": [],
   "source": [
    "#Calculate the length of credit history using (loans['issue_date'] - loans['earliest_credit']).dt.days\n",
    "\n",
    "\n"
   ]
  },
  {
   "cell_type": "markdown",
   "metadata": {
    "id": "LKjAq0qCl9pM"
   },
   "source": [
    "Divide the credit length in days by 365.25 (don't forget leap year!) and save the result as `credit_length_years`."
   ]
  },
  {
   "cell_type": "code",
   "execution_count": null,
   "metadata": {
    "id": "cyypt63emFE6"
   },
   "outputs": [],
   "source": []
  },
  {
   "cell_type": "markdown",
   "metadata": {
    "id": "ml-N769C_e_n"
   },
   "source": [
    "Use the .max() function to determine the longest credit history in years."
   ]
  },
  {
   "cell_type": "code",
   "execution_count": null,
   "metadata": {
    "id": "FWu1a57V_cHx"
   },
   "outputs": [],
   "source": []
  }
 ],
 "metadata": {
  "colab": {
   "authorship_tag": "ABX9TyMvLAQ9NiB8Fxukaap63jco",
   "collapsed_sections": [],
   "name": "Date-time warmup.ipynb",
   "provenance": []
  },
  "kernelspec": {
   "display_name": "Python 3",
   "language": "python",
   "name": "python3"
  },
  "language_info": {
   "codemirror_mode": {
    "name": "ipython",
    "version": 3
   },
   "file_extension": ".py",
   "mimetype": "text/x-python",
   "name": "python",
   "nbconvert_exporter": "python",
   "pygments_lexer": "ipython3",
   "version": "3.8.8"
  }
 },
 "nbformat": 4,
 "nbformat_minor": 1
}
