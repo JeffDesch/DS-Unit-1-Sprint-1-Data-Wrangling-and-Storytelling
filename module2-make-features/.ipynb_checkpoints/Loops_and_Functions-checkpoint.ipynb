{
 "cells": [
  {
   "cell_type": "markdown",
   "metadata": {
    "id": "s6edLBVZ2KPo"
   },
   "source": [
    "# Indexing, Loops and a Function"
   ]
  },
  {
   "cell_type": "markdown",
   "metadata": {
    "id": "xLc9fKST3SRF"
   },
   "source": [
    "# Indexing\n",
    "We've spent some time going over datatypes and variable objects. However, we may be interested in doing more than just reassigning objects. Run the following code cells. "
   ]
  },
  {
   "cell_type": "code",
   "execution_count": null,
   "metadata": {
    "id": "dAOLOvlN4GMb"
   },
   "outputs": [],
   "source": [
    "#Here is a list of multiple string objects\n",
    "\n",
    "list_of_names = [\"Diana\", \"Carlos\", \"Theresa\", \"Yun\"]"
   ]
  },
  {
   "cell_type": "code",
   "execution_count": null,
   "metadata": {
    "colab": {
     "base_uri": "https://localhost:8080/",
     "height": 35
    },
    "id": "6qmrE8LE4uqF",
    "outputId": "8c634334-7dea-45db-e0c7-82e31a7a9990"
   },
   "outputs": [
    {
     "data": {
      "application/vnd.google.colaboratory.intrinsic+json": {
       "type": "string"
      },
      "text/plain": [
       "'Carlos'"
      ]
     },
     "execution_count": 47,
     "metadata": {
      "tags": []
     },
     "output_type": "execute_result"
    }
   ],
   "source": [
    "#With list indexing, you can select items by using [] at the end of a list object. \n",
    "list_of_names[1]"
   ]
  },
  {
   "cell_type": "markdown",
   "metadata": {},
   "source": [
    "### Now You Try. "
   ]
  },
  {
   "cell_type": "code",
   "execution_count": 1,
   "metadata": {
    "id": "6T0jx0V14a4a"
   },
   "outputs": [],
   "source": [
    "#Select the third name on the list (Remember Python is a 0-indexed language)\n",
    "\n"
   ]
  },
  {
   "cell_type": "code",
   "execution_count": 2,
   "metadata": {
    "colab": {
     "base_uri": "https://localhost:8080/",
     "height": 35
    },
    "collapsed": true,
    "id": "RehO-mNt47mk",
    "outputId": "e471e291-0a3f-4f77-eaae-ec9f5d317f5a"
   },
   "outputs": [
    {
     "ename": "NameError",
     "evalue": "name 'list_of_names' is not defined",
     "output_type": "error",
     "traceback": [
      "\u001b[0;31m---------------------------------------------------------------------------\u001b[0m",
      "\u001b[0;31mNameError\u001b[0m                                 Traceback (most recent call last)",
      "\u001b[0;32m<ipython-input-2-7bed90a1cee8>\u001b[0m in \u001b[0;36m<module>\u001b[0;34m\u001b[0m\n\u001b[1;32m      1\u001b[0m \u001b[0;31m#Moreso, you can use indexing to navigate deeper into particular objects.\u001b[0m\u001b[0;34m\u001b[0m\u001b[0;34m\u001b[0m\u001b[0;34m\u001b[0m\u001b[0m\n\u001b[0;32m----> 2\u001b[0;31m \u001b[0mlist_of_names\u001b[0m\u001b[0;34m[\u001b[0m\u001b[0;36m1\u001b[0m\u001b[0;34m]\u001b[0m\u001b[0;34m[\u001b[0m\u001b[0;36m0\u001b[0m\u001b[0;34m]\u001b[0m\u001b[0;34m\u001b[0m\u001b[0;34m\u001b[0m\u001b[0m\n\u001b[0m\u001b[1;32m      3\u001b[0m \u001b[0;34m\u001b[0m\u001b[0m\n\u001b[1;32m      4\u001b[0m \u001b[0;34m\u001b[0m\u001b[0m\n\u001b[1;32m      5\u001b[0m \u001b[0;31m#note that the output is the first letter of Carlos' name.\u001b[0m\u001b[0;34m\u001b[0m\u001b[0;34m\u001b[0m\u001b[0;34m\u001b[0m\u001b[0m\n",
      "\u001b[0;31mNameError\u001b[0m: name 'list_of_names' is not defined"
     ]
    }
   ],
   "source": [
    "#Moreso, you can use indexing to navigate deeper into particular objects. \n",
    "list_of_names[1][0]\n",
    "\n",
    "\n",
    "#note that the output is the first letter of Carlos' name. "
   ]
  },
  {
   "cell_type": "code",
   "execution_count": null,
   "metadata": {
    "colab": {
     "base_uri": "https://localhost:8080/"
    },
    "id": "K_9aK7V65xuz",
    "outputId": "7be3f001-9caf-4473-8fb4-66cb816a4fbd"
   },
   "outputs": [
    {
     "data": {
      "text/plain": [
       "['Diana', 'Carlos']"
      ]
     },
     "execution_count": 50,
     "metadata": {
      "tags": []
     },
     "output_type": "execute_result"
    }
   ],
   "source": [
    "#Indexing allows you to select multiple objects, either in a list or in a string\n",
    "\n",
    "list_of_names[:2]\n",
    "#The [:2] will select the first two objects in the list. "
   ]
  },
  {
   "cell_type": "code",
   "execution_count": null,
   "metadata": {
    "colab": {
     "base_uri": "https://localhost:8080/",
     "height": 35
    },
    "id": "CI97vhRj6CQR",
    "outputId": "fdca063c-a769-470d-a0dc-de862795df81"
   },
   "outputs": [
    {
     "data": {
      "application/vnd.google.colaboratory.intrinsic+json": {
       "type": "string"
      },
      "text/plain": [
       "'Carlos'"
      ]
     },
     "execution_count": 51,
     "metadata": {
      "tags": []
     },
     "output_type": "execute_result"
    }
   ],
   "source": [
    "#You can also filter even further, since you've created a list with two objects. \n",
    "list_of_names[:2][1]"
   ]
  },
  {
   "cell_type": "code",
   "execution_count": null,
   "metadata": {
    "colab": {
     "base_uri": "https://localhost:8080/"
    },
    "id": "Q2VsOrjL9XMw",
    "outputId": "ffe72cba-ee0b-4f02-b93f-af22d1866faa"
   },
   "outputs": [
    {
     "data": {
      "text/plain": [
       "['Ramires', 'Kevin', 'Ariana', ['Diana', 'Carlos', 'Theresa', 'Yun'], 'Martin']"
      ]
     },
     "execution_count": 52,
     "metadata": {
      "tags": []
     },
     "output_type": "execute_result"
    }
   ],
   "source": [
    "#challenge\n",
    "new_list = ['Ramires', 'Kevin', 'Ariana', list_of_names, 'Martin']\n",
    "\n"
   ]
  },
  {
   "cell_type": "markdown",
   "metadata": {},
   "source": [
    "### Now You Try. "
   ]
  },
  {
   "cell_type": "code",
   "execution_count": null,
   "metadata": {
    "id": "4vNAujUq_JG_"
   },
   "outputs": [],
   "source": [
    "#from this list, use indexing to output the name 'Diana'\n"
   ]
  },
  {
   "cell_type": "markdown",
   "metadata": {
    "id": "FYCBFVK3_ZHL"
   },
   "source": [
    "## For Loops\n",
    "Sometimes, you'll need to iterate through every object in a collection of values."
   ]
  },
  {
   "cell_type": "code",
   "execution_count": null,
   "metadata": {
    "id": "7Kb8gnAf_am6"
   },
   "outputs": [],
   "source": [
    "numbers_list = [2, 4, 6, 8, 10]"
   ]
  },
  {
   "cell_type": "code",
   "execution_count": null,
   "metadata": {
    "colab": {
     "base_uri": "https://localhost:8080/"
    },
    "id": "Vak3RYQKAPT1",
    "outputId": "c76bcbdc-60eb-42ac-f546-cc2d9178821d"
   },
   "outputs": [
    {
     "name": "stdout",
     "output_type": "stream",
     "text": [
      "4\n",
      "8\n",
      "12\n",
      "16\n",
      "20\n"
     ]
    }
   ],
   "source": [
    "#to iterate in python, we use what's called a 'for loop'\n",
    "\n",
    "for i in numbers_list:  #the letter i, in this case, serves as a placeholder for every variable in the list\n",
    "  print(i * 2)          #see how every single i is being multiplied by 2\n"
   ]
  },
  {
   "cell_type": "code",
   "execution_count": null,
   "metadata": {
    "colab": {
     "base_uri": "https://localhost:8080/"
    },
    "id": "fvUwHo0TAQ2R",
    "outputId": "be524419-d8cb-4585-9f2c-deecb66a03f9"
   },
   "outputs": [
    {
     "data": {
      "text/plain": [
       "list"
      ]
     },
     "execution_count": 59,
     "metadata": {
      "tags": []
     },
     "output_type": "execute_result"
    }
   ],
   "source": [
    "#What this means, is that you can now convert all the values in a list to their individual datatype:\n",
    "\n",
    "type(list_of_names)"
   ]
  },
  {
   "cell_type": "code",
   "execution_count": null,
   "metadata": {
    "colab": {
     "base_uri": "https://localhost:8080/"
    },
    "id": "CXKNl9vgBG6E",
    "outputId": "644a102c-29e0-4929-ec2c-aba602c676ac"
   },
   "outputs": [
    {
     "name": "stdout",
     "output_type": "stream",
     "text": [
      "Diana <class 'str'>\n",
      "Carlos <class 'str'>\n",
      "Theresa <class 'str'>\n",
      "Yun <class 'str'>\n"
     ]
    }
   ],
   "source": [
    "for i in list_of_names:\n",
    "  print(i, type(i))"
   ]
  },
  {
   "cell_type": "code",
   "execution_count": null,
   "metadata": {
    "colab": {
     "base_uri": "https://localhost:8080/"
    },
    "id": "cuqQQZECBKuk",
    "outputId": "767cf957-3dff-459f-d579-946a84ee7791"
   },
   "outputs": [
    {
     "name": "stdout",
     "output_type": "stream",
     "text": [
      "diana\n",
      "carlos\n",
      "theresa\n",
      "yun\n"
     ]
    }
   ],
   "source": [
    "#so you can now use methods that are applicable only to strings to the whole list\n",
    "\n",
    "for i in list_of_names:\n",
    "  print(i.lower())      #.lower is a string method that lowercases all the letters in a string."
   ]
  },
  {
   "cell_type": "markdown",
   "metadata": {
    "id": "OGySjtlYBhUP"
   },
   "source": [
    "## Functions\n",
    "\n",
    "Sometimes, you want to be able to build an object that will perform a task in multiple instances. This is the core of creating basic programs in Python."
   ]
  },
  {
   "cell_type": "code",
   "execution_count": null,
   "metadata": {
    "id": "urPPF1jhBim9"
   },
   "outputs": [],
   "source": [
    "def adds_three(x):\n",
    "  '''\n",
    "    Adds three to any number\n",
    "  '''\n",
    "  return x + 3"
   ]
  },
  {
   "cell_type": "code",
   "execution_count": null,
   "metadata": {
    "colab": {
     "base_uri": "https://localhost:8080/"
    },
    "id": "V0qQitEYESLq",
    "outputId": "9caea626-111e-4fcf-eb07-d4a8c80d9f5d"
   },
   "outputs": [
    {
     "data": {
      "text/plain": [
       "6"
      ]
     },
     "execution_count": 67,
     "metadata": {
      "tags": []
     },
     "output_type": "execute_result"
    }
   ],
   "source": [
    "adds_three(3)"
   ]
  },
  {
   "cell_type": "markdown",
   "metadata": {
    "id": "r7vzbYuPFQTR"
   },
   "source": [
    "#### The syntax for a function is a little more complex, but note that you start by using the letters 'def' to start a function and a () to include arguments or parameters. "
   ]
  },
  {
   "cell_type": "code",
   "execution_count": null,
   "metadata": {
    "id": "eNrcmHfpET9j"
   },
   "outputs": [],
   "source": [
    "def adds_anna(x):\n",
    "  '''\n",
    "  takes a list and adds the letters -anna \n",
    "  '''\n",
    "  new_list = []\n",
    "  for i in x:\n",
    "    new_list.append(i + 'anna')\n",
    "  return new_list"
   ]
  },
  {
   "cell_type": "code",
   "execution_count": null,
   "metadata": {
    "colab": {
     "base_uri": "https://localhost:8080/"
    },
    "id": "7VMDIgAPFGIK",
    "outputId": "44093191-8007-4e82-a60f-85e1b9b49b22"
   },
   "outputs": [
    {
     "data": {
      "text/plain": [
       "['Dianaanna', 'Carlosanna', 'Theresaanna', 'Yunanna']"
      ]
     },
     "execution_count": 73,
     "metadata": {
      "tags": []
     },
     "output_type": "execute_result"
    }
   ],
   "source": [
    "adds_anna(list_of_names)"
   ]
  },
  {
   "cell_type": "code",
   "execution_count": null,
   "metadata": {
    "id": "uMf9L2-xFsPD"
   },
   "outputs": [],
   "source": []
  },
  {
   "cell_type": "markdown",
   "metadata": {
    "id": "ouQPXiLyFtMe"
   },
   "source": [
    "#### Practice"
   ]
  },
  {
   "cell_type": "code",
   "execution_count": null,
   "metadata": {
    "id": "gIahbIc9FJ6A"
   },
   "outputs": [],
   "source": [
    "# Create a function that takes any number and subtracts 5.\n",
    "\n",
    "\n",
    "#Create a loop that divides all numbers in a list by 2.\n",
    "\n"
   ]
  }
 ],
 "metadata": {
  "colab": {
   "collapsed_sections": [
    "s6edLBVZ2KPo"
   ],
   "name": "Loops and Functions.ipynb",
   "provenance": []
  },
  "kernelspec": {
   "display_name": "Python 3",
   "language": "python",
   "name": "python3"
  },
  "language_info": {
   "codemirror_mode": {
    "name": "ipython",
    "version": 3
   },
   "file_extension": ".py",
   "mimetype": "text/x-python",
   "name": "python",
   "nbconvert_exporter": "python",
   "pygments_lexer": "ipython3",
   "version": "3.8.8"
  }
 },
 "nbformat": 4,
 "nbformat_minor": 1
}
